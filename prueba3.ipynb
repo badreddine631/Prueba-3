{
 "cells": [
  {
   "cell_type": "markdown",
   "id": "556880c3-6ca1-4ebf-9629-aadf1fc56cef",
   "metadata": {},
   "source": [
    "## 📥 Carga de datos EEG y eventos n-Back\n",
    "\n",
    "En esta sección se cargan los datos del experimento `n-Back`, que están organizados por participante (del 1 al 19) en la carpeta `NBack`. Para cada participante, se leen dos archivos:\n",
    "\n",
    "- `EEG_i.csv`: contiene las señales EEG en bruto con 16 canales (EEG0 a EEG15) y una columna de tiempo (`Time`).\n",
    "- `NBack_i.csv`: contiene los eventos del test n-Back con tres columnas: `Time`, `EventCode` y `Notes`.\n",
    "\n",
    "Algunos archivos de EEG incluyen una primera columna vacía, por lo que se omite mediante `usecols=range(1, 18)` para garantizar la correcta lectura de los canales. Se almacenan los datos en dos diccionarios:\n",
    "\n",
    "- `eeg_data`: almacena los DataFrames de señal EEG por participante.\n",
    "- `nback_events`: almacena los DataFrames de eventos n-Back por participante.\n",
    "\n",
    "Al finalizar, se imprime la forma de los datos por participante, y se muestra el inicio de las señales del primer sujeto como ejemplo.\n",
    "\n"
   ]
  },
  {
   "cell_type": "code",
   "execution_count": 13,
   "id": "7bdfc4d0-929d-4b65-a3df-c791bf733cac",
   "metadata": {},
   "outputs": [
    {
     "name": "stderr",
     "output_type": "stream",
     "text": [
      "C:\\Users\\Usuario\\AppData\\Local\\Temp\\ipykernel_4864\\1471055838.py:22: DtypeWarning: Columns (1,2,3,4,5,6,7,8,9,10,11,12,13,14,15,16,17) have mixed types. Specify dtype option on import or set low_memory=False.\n",
      "  eeg_df = pd.read_csv(eeg_file, header=None, usecols=range(1, 17 + 1))\n"
     ]
    },
    {
     "name": "stdout",
     "output_type": "stream",
     "text": [
      "✅ Participante 1: EEG (79769, 17), Eventos (115, 3)\n"
     ]
    },
    {
     "name": "stderr",
     "output_type": "stream",
     "text": [
      "C:\\Users\\Usuario\\AppData\\Local\\Temp\\ipykernel_4864\\1471055838.py:22: DtypeWarning: Columns (1,2,3,4,5,6,7,8,9,10,11,12,13,14,15,16,17) have mixed types. Specify dtype option on import or set low_memory=False.\n",
      "  eeg_df = pd.read_csv(eeg_file, header=None, usecols=range(1, 17 + 1))\n"
     ]
    },
    {
     "name": "stdout",
     "output_type": "stream",
     "text": [
      "✅ Participante 2: EEG (71497, 17), Eventos (122, 3)\n"
     ]
    },
    {
     "name": "stderr",
     "output_type": "stream",
     "text": [
      "C:\\Users\\Usuario\\AppData\\Local\\Temp\\ipykernel_4864\\1471055838.py:22: DtypeWarning: Columns (1,2,3,4,5,6,7,8,9,10,11,12,13,14,15,16,17) have mixed types. Specify dtype option on import or set low_memory=False.\n",
      "  eeg_df = pd.read_csv(eeg_file, header=None, usecols=range(1, 17 + 1))\n"
     ]
    },
    {
     "name": "stdout",
     "output_type": "stream",
     "text": [
      "✅ Participante 3: EEG (78401, 17), Eventos (128, 3)\n"
     ]
    },
    {
     "name": "stderr",
     "output_type": "stream",
     "text": [
      "C:\\Users\\Usuario\\AppData\\Local\\Temp\\ipykernel_4864\\1471055838.py:22: DtypeWarning: Columns (1,2,3,4,5,6,7,8,9,10,11,12,13,14,15,16,17) have mixed types. Specify dtype option on import or set low_memory=False.\n",
      "  eeg_df = pd.read_csv(eeg_file, header=None, usecols=range(1, 17 + 1))\n"
     ]
    },
    {
     "name": "stdout",
     "output_type": "stream",
     "text": [
      "✅ Participante 4: EEG (73401, 17), Eventos (120, 3)\n"
     ]
    },
    {
     "name": "stderr",
     "output_type": "stream",
     "text": [
      "C:\\Users\\Usuario\\AppData\\Local\\Temp\\ipykernel_4864\\1471055838.py:22: DtypeWarning: Columns (1,2,3,4,5,6,7,8,9,10,11,12,13,14,15,16,17) have mixed types. Specify dtype option on import or set low_memory=False.\n",
      "  eeg_df = pd.read_csv(eeg_file, header=None, usecols=range(1, 17 + 1))\n"
     ]
    },
    {
     "name": "stdout",
     "output_type": "stream",
     "text": [
      "✅ Participante 5: EEG (75505, 17), Eventos (120, 3)\n"
     ]
    },
    {
     "name": "stderr",
     "output_type": "stream",
     "text": [
      "C:\\Users\\Usuario\\AppData\\Local\\Temp\\ipykernel_4864\\1471055838.py:22: DtypeWarning: Columns (1,2,3,4,5,6,7,8,9,10,11,12,13,14,15,16,17) have mixed types. Specify dtype option on import or set low_memory=False.\n",
      "  eeg_df = pd.read_csv(eeg_file, header=None, usecols=range(1, 17 + 1))\n"
     ]
    },
    {
     "name": "stdout",
     "output_type": "stream",
     "text": [
      "✅ Participante 6: EEG (70017, 17), Eventos (118, 3)\n"
     ]
    },
    {
     "name": "stderr",
     "output_type": "stream",
     "text": [
      "C:\\Users\\Usuario\\AppData\\Local\\Temp\\ipykernel_4864\\1471055838.py:22: DtypeWarning: Columns (1,2,3,4,5,6,7,8,9,10,11,12,13,14,15,16,17) have mixed types. Specify dtype option on import or set low_memory=False.\n",
      "  eeg_df = pd.read_csv(eeg_file, header=None, usecols=range(1, 17 + 1))\n"
     ]
    },
    {
     "name": "stdout",
     "output_type": "stream",
     "text": [
      "✅ Participante 7: EEG (72033, 17), Eventos (125, 3)\n"
     ]
    },
    {
     "name": "stderr",
     "output_type": "stream",
     "text": [
      "C:\\Users\\Usuario\\AppData\\Local\\Temp\\ipykernel_4864\\1471055838.py:22: DtypeWarning: Columns (1,2,3,4,5,6,7,8,9,10,11,12,13,14,15,16,17) have mixed types. Specify dtype option on import or set low_memory=False.\n",
      "  eeg_df = pd.read_csv(eeg_file, header=None, usecols=range(1, 17 + 1))\n"
     ]
    },
    {
     "name": "stdout",
     "output_type": "stream",
     "text": [
      "✅ Participante 8: EEG (79081, 17), Eventos (123, 3)\n"
     ]
    },
    {
     "name": "stderr",
     "output_type": "stream",
     "text": [
      "C:\\Users\\Usuario\\AppData\\Local\\Temp\\ipykernel_4864\\1471055838.py:22: DtypeWarning: Columns (1,2,3,4,5,6,7,8,9,10,11,12,13,14,15,16,17) have mixed types. Specify dtype option on import or set low_memory=False.\n",
      "  eeg_df = pd.read_csv(eeg_file, header=None, usecols=range(1, 17 + 1))\n"
     ]
    },
    {
     "name": "stdout",
     "output_type": "stream",
     "text": [
      "✅ Participante 9: EEG (73129, 17), Eventos (120, 3)\n"
     ]
    },
    {
     "name": "stderr",
     "output_type": "stream",
     "text": [
      "C:\\Users\\Usuario\\AppData\\Local\\Temp\\ipykernel_4864\\1471055838.py:22: DtypeWarning: Columns (1,2,3,4,5,6,7,8,9,10,11,12,13,14,15,16,17) have mixed types. Specify dtype option on import or set low_memory=False.\n",
      "  eeg_df = pd.read_csv(eeg_file, header=None, usecols=range(1, 17 + 1))\n"
     ]
    },
    {
     "name": "stdout",
     "output_type": "stream",
     "text": [
      "✅ Participante 10: EEG (71249, 17), Eventos (129, 3)\n"
     ]
    },
    {
     "name": "stderr",
     "output_type": "stream",
     "text": [
      "C:\\Users\\Usuario\\AppData\\Local\\Temp\\ipykernel_4864\\1471055838.py:22: DtypeWarning: Columns (1,2,3,4,5,6,7,8,9,10,11,12,13,14,15,16,17) have mixed types. Specify dtype option on import or set low_memory=False.\n",
      "  eeg_df = pd.read_csv(eeg_file, header=None, usecols=range(1, 17 + 1))\n"
     ]
    },
    {
     "name": "stdout",
     "output_type": "stream",
     "text": [
      "✅ Participante 11: EEG (69809, 17), Eventos (118, 3)\n"
     ]
    },
    {
     "name": "stderr",
     "output_type": "stream",
     "text": [
      "C:\\Users\\Usuario\\AppData\\Local\\Temp\\ipykernel_4864\\1471055838.py:22: DtypeWarning: Columns (1,2,3,4,5,6,7,8,9,10,11,12,13,14,15,16,17) have mixed types. Specify dtype option on import or set low_memory=False.\n",
      "  eeg_df = pd.read_csv(eeg_file, header=None, usecols=range(1, 17 + 1))\n"
     ]
    },
    {
     "name": "stdout",
     "output_type": "stream",
     "text": [
      "✅ Participante 12: EEG (72705, 17), Eventos (122, 3)\n"
     ]
    },
    {
     "name": "stderr",
     "output_type": "stream",
     "text": [
      "C:\\Users\\Usuario\\AppData\\Local\\Temp\\ipykernel_4864\\1471055838.py:22: DtypeWarning: Columns (1,2,3,4,5,6,7,8,9,10,11,12,13,14,15,16,17) have mixed types. Specify dtype option on import or set low_memory=False.\n",
      "  eeg_df = pd.read_csv(eeg_file, header=None, usecols=range(1, 17 + 1))\n"
     ]
    },
    {
     "name": "stdout",
     "output_type": "stream",
     "text": [
      "✅ Participante 13: EEG (75473, 17), Eventos (121, 3)\n"
     ]
    },
    {
     "name": "stderr",
     "output_type": "stream",
     "text": [
      "C:\\Users\\Usuario\\AppData\\Local\\Temp\\ipykernel_4864\\1471055838.py:22: DtypeWarning: Columns (1,2,3,4,5,6,7,8,9,10,11,12,13,14,15,16,17) have mixed types. Specify dtype option on import or set low_memory=False.\n",
      "  eeg_df = pd.read_csv(eeg_file, header=None, usecols=range(1, 17 + 1))\n"
     ]
    },
    {
     "name": "stdout",
     "output_type": "stream",
     "text": [
      "✅ Participante 14: EEG (70817, 17), Eventos (121, 3)\n"
     ]
    },
    {
     "name": "stderr",
     "output_type": "stream",
     "text": [
      "C:\\Users\\Usuario\\AppData\\Local\\Temp\\ipykernel_4864\\1471055838.py:22: DtypeWarning: Columns (1,2,3,4,5,6,7,8,9,10,11,12,13,14,15,16,17) have mixed types. Specify dtype option on import or set low_memory=False.\n",
      "  eeg_df = pd.read_csv(eeg_file, header=None, usecols=range(1, 17 + 1))\n"
     ]
    },
    {
     "name": "stdout",
     "output_type": "stream",
     "text": [
      "✅ Participante 15: EEG (72273, 17), Eventos (117, 3)\n"
     ]
    },
    {
     "name": "stderr",
     "output_type": "stream",
     "text": [
      "C:\\Users\\Usuario\\AppData\\Local\\Temp\\ipykernel_4864\\1471055838.py:22: DtypeWarning: Columns (1,2,3,4,5,6,7,8,9,10,11,12,13,14,15,16,17) have mixed types. Specify dtype option on import or set low_memory=False.\n",
      "  eeg_df = pd.read_csv(eeg_file, header=None, usecols=range(1, 17 + 1))\n"
     ]
    },
    {
     "name": "stdout",
     "output_type": "stream",
     "text": [
      "✅ Participante 16: EEG (70265, 17), Eventos (124, 3)\n"
     ]
    },
    {
     "name": "stderr",
     "output_type": "stream",
     "text": [
      "C:\\Users\\Usuario\\AppData\\Local\\Temp\\ipykernel_4864\\1471055838.py:22: DtypeWarning: Columns (1,2,3,4,5,6,7,8,9,10,11,12,13,14,15,16,17) have mixed types. Specify dtype option on import or set low_memory=False.\n",
      "  eeg_df = pd.read_csv(eeg_file, header=None, usecols=range(1, 17 + 1))\n"
     ]
    },
    {
     "name": "stdout",
     "output_type": "stream",
     "text": [
      "✅ Participante 17: EEG (72441, 17), Eventos (122, 3)\n"
     ]
    },
    {
     "name": "stderr",
     "output_type": "stream",
     "text": [
      "C:\\Users\\Usuario\\AppData\\Local\\Temp\\ipykernel_4864\\1471055838.py:22: DtypeWarning: Columns (1,2,3,4,5,6,7,8,9,10,11,12,13,14,15,16,17) have mixed types. Specify dtype option on import or set low_memory=False.\n",
      "  eeg_df = pd.read_csv(eeg_file, header=None, usecols=range(1, 17 + 1))\n"
     ]
    },
    {
     "name": "stdout",
     "output_type": "stream",
     "text": [
      "✅ Participante 18: EEG (71449, 17), Eventos (125, 3)\n",
      "✅ Participante 19: EEG (70817, 17), Eventos (125, 3)\n"
     ]
    },
    {
     "name": "stderr",
     "output_type": "stream",
     "text": [
      "C:\\Users\\Usuario\\AppData\\Local\\Temp\\ipykernel_4864\\1471055838.py:22: DtypeWarning: Columns (1,2,3,4,5,6,7,8,9,10,11,12,13,14,15,16,17) have mixed types. Specify dtype option on import or set low_memory=False.\n",
      "  eeg_df = pd.read_csv(eeg_file, header=None, usecols=range(1, 17 + 1))\n"
     ]
    }
   ],
   "source": [
    "import pandas as pd\n",
    "import os\n",
    "\n",
    "# Ruta local a los datos\n",
    "base_path = r\"C:\\Users\\Usuario\\Desktop\\Data\"\n",
    "nback_path = os.path.join(base_path, \"NBack\")\n",
    "\n",
    "# Nombres de columnas válidas: Time + EEG0 a EEG15\n",
    "eeg_columns = ['Time'] + [f\"EEG{i}\" for i in range(16)]\n",
    "\n",
    "# Diccionarios\n",
    "eeg_data = {}\n",
    "nback_events = {}\n",
    "\n",
    "# Cargar datos\n",
    "for i in range(1, 20):\n",
    "    eeg_file = os.path.join(nback_path, f\"EEG_{i}.csv\")\n",
    "    nback_file = os.path.join(nback_path, f\"NBack_{i}.csv\")\n",
    "\n",
    "    try:\n",
    "        # Leer ignorando la primera columna vacía (usecols = de la 2ª en adelante)\n",
    "        eeg_df = pd.read_csv(eeg_file, header=None, usecols=range(1, 17 + 1))\n",
    "        eeg_df.columns = eeg_columns\n",
    "        eeg_data[i] = eeg_df\n",
    "\n",
    "        events_df = pd.read_csv(nback_file, names=[\"Time\", \"EventCode\", \"Notes\"])\n",
    "        nback_events[i] = events_df\n",
    "\n",
    "        print(f\"✅ Participante {i}: EEG {eeg_df.shape}, Eventos {events_df.shape}\")\n",
    "\n",
    "    except Exception as e:\n",
    "        print(f\"❌ Error en participante {i}: {e}\")\n",
    "\n",
    "# Mostrar una tabla\n",
    "if eeg_data:\n",
    "    first_id = list(eeg_data.keys())[0]\n",
    "    eeg_data[first_id].head()\n"
   ]
  },
  {
   "cell_type": "markdown",
   "id": "b167ae5d-4e0a-40e9-a6e6-6359179cab06",
   "metadata": {},
   "source": [
    "## 🧼 Limpieza de eventos n-Back\n",
    "\n",
    "Algunos archivos de eventos `NBack_i.csv` contienen separadores no estructurados (por ejemplo, líneas con `#####`) que no representan eventos válidos. Para garantizar una correcta detección de bloques de carga cognitiva, se define la función `cargar_eventos_limpios()` con los siguientes pasos:\n",
    "\n",
    "1. **Carga inicial** del archivo con nombres personalizados para las columnas: `Time`, `EventCode` y `Notes`.\n",
    "2. **Filtrado de filas no válidas**: se eliminan todas las filas que contienen el carácter `#` en las columnas `EventCode` o `Notes`.\n",
    "3. **Conversión de tipos**: se convierten las tres columnas a valores numéricos (`float`) usando `pd.to_numeric`, descartando errores con `errors='coerce'`.\n",
    "4. **Eliminación de valores nulos**: se descartan filas que quedaron incompletas tras la conversión.\n",
    "5. **Reindexado limpio** del DataFrame resultante.\n",
    "\n",
    "Esta función garantiza que los eventos utilizados en la detección de bloques estén correctamente estructurados y listos para su procesamiento posterior.\n",
    "\n"
   ]
  },
  {
   "cell_type": "code",
   "execution_count": 20,
   "id": "ed788ad9-b5bc-4e1d-aee1-ac5bf7d01b82",
   "metadata": {},
   "outputs": [],
   "source": [
    "import pandas as pd\n",
    "\n",
    "def cargar_eventos_limpios(path):\n",
    "    eventos = pd.read_csv(path, names=[\"Time\", \"EventCode\", \"Notes\"], dtype=str)\n",
    "\n",
    "    # Eliminar filas que no son eventos válidos (por ejemplo, '#####')\n",
    "    eventos = eventos[~eventos[\"EventCode\"].str.contains(\"#\", na=False)]\n",
    "    eventos = eventos[~eventos[\"Notes\"].str.contains(\"#\", na=False)]\n",
    "\n",
    "    # Convertir columnas numéricas\n",
    "    eventos[\"Time\"] = pd.to_numeric(eventos[\"Time\"], errors='coerce')\n",
    "    eventos[\"EventCode\"] = pd.to_numeric(eventos[\"EventCode\"], errors='coerce')\n",
    "    eventos[\"Notes\"] = pd.to_numeric(eventos[\"Notes\"], errors='coerce')\n",
    "\n",
    "    # Eliminar filas con NaN\n",
    "    eventos = eventos.dropna()\n",
    "\n",
    "    return eventos.reset_index(drop=True)\n"
   ]
  },
  {
   "cell_type": "markdown",
   "id": "337dfb58-bdc6-4fea-9247-582a20f06570",
   "metadata": {},
   "source": [
    "## 🔄 Recarga de datos con limpieza de eventos\n",
    "\n",
    "Tras definir la función `cargar_eventos_limpios()`, se vuelve a recorrer el conjunto de participantes (del 1 al 19) para cargar tanto las señales EEG como los eventos del test n-Back, esta vez aplicando el proceso de limpieza.\n",
    "\n",
    "Para cada participante:\n",
    "\n",
    "- Se carga el archivo `EEG_i.csv` omitiendo la primera columna vacía y se renombran sus columnas como `['Time', 'EEG0', ..., 'EEG15']`.\n",
    "- Se carga y limpia el archivo `NBack_i.csv` mediante la función `cargar_eventos_limpios()`, que elimina separadores no válidos y convierte las columnas a valores numéricos.\n",
    "- Ambos conjuntos se almacenan en los diccionarios `eeg_data` y `nback_events`.\n",
    "\n",
    "Al final, se imprime un resumen de las dimensiones de los datos correctamente cargados para cada sujeto.\n"
   ]
  },
  {
   "cell_type": "code",
   "execution_count": 21,
   "id": "4f5de497-2dad-4a7a-a790-2cd4bc763367",
   "metadata": {},
   "outputs": [
    {
     "name": "stderr",
     "output_type": "stream",
     "text": [
      "C:\\Users\\Usuario\\AppData\\Local\\Temp\\ipykernel_4864\\4125135650.py:6: DtypeWarning: Columns (1,2,3,4,5,6,7,8,9,10,11,12,13,14,15,16,17) have mixed types. Specify dtype option on import or set low_memory=False.\n",
      "  eeg_df = pd.read_csv(eeg_file, header=None, usecols=range(1, 17 + 1))\n"
     ]
    },
    {
     "name": "stdout",
     "output_type": "stream",
     "text": [
      "✅ Participante 1: EEG (79769, 17), Eventos (96, 3)\n"
     ]
    },
    {
     "name": "stderr",
     "output_type": "stream",
     "text": [
      "C:\\Users\\Usuario\\AppData\\Local\\Temp\\ipykernel_4864\\4125135650.py:6: DtypeWarning: Columns (1,2,3,4,5,6,7,8,9,10,11,12,13,14,15,16,17) have mixed types. Specify dtype option on import or set low_memory=False.\n",
      "  eeg_df = pd.read_csv(eeg_file, header=None, usecols=range(1, 17 + 1))\n"
     ]
    },
    {
     "name": "stdout",
     "output_type": "stream",
     "text": [
      "✅ Participante 2: EEG (71497, 17), Eventos (96, 3)\n"
     ]
    },
    {
     "name": "stderr",
     "output_type": "stream",
     "text": [
      "C:\\Users\\Usuario\\AppData\\Local\\Temp\\ipykernel_4864\\4125135650.py:6: DtypeWarning: Columns (1,2,3,4,5,6,7,8,9,10,11,12,13,14,15,16,17) have mixed types. Specify dtype option on import or set low_memory=False.\n",
      "  eeg_df = pd.read_csv(eeg_file, header=None, usecols=range(1, 17 + 1))\n"
     ]
    },
    {
     "name": "stdout",
     "output_type": "stream",
     "text": [
      "✅ Participante 3: EEG (78401, 17), Eventos (96, 3)\n"
     ]
    },
    {
     "name": "stderr",
     "output_type": "stream",
     "text": [
      "C:\\Users\\Usuario\\AppData\\Local\\Temp\\ipykernel_4864\\4125135650.py:6: DtypeWarning: Columns (1,2,3,4,5,6,7,8,9,10,11,12,13,14,15,16,17) have mixed types. Specify dtype option on import or set low_memory=False.\n",
      "  eeg_df = pd.read_csv(eeg_file, header=None, usecols=range(1, 17 + 1))\n"
     ]
    },
    {
     "name": "stdout",
     "output_type": "stream",
     "text": [
      "✅ Participante 4: EEG (73401, 17), Eventos (96, 3)\n"
     ]
    },
    {
     "name": "stderr",
     "output_type": "stream",
     "text": [
      "C:\\Users\\Usuario\\AppData\\Local\\Temp\\ipykernel_4864\\4125135650.py:6: DtypeWarning: Columns (1,2,3,4,5,6,7,8,9,10,11,12,13,14,15,16,17) have mixed types. Specify dtype option on import or set low_memory=False.\n",
      "  eeg_df = pd.read_csv(eeg_file, header=None, usecols=range(1, 17 + 1))\n"
     ]
    },
    {
     "name": "stdout",
     "output_type": "stream",
     "text": [
      "✅ Participante 5: EEG (75505, 17), Eventos (96, 3)\n"
     ]
    },
    {
     "name": "stderr",
     "output_type": "stream",
     "text": [
      "C:\\Users\\Usuario\\AppData\\Local\\Temp\\ipykernel_4864\\4125135650.py:6: DtypeWarning: Columns (1,2,3,4,5,6,7,8,9,10,11,12,13,14,15,16,17) have mixed types. Specify dtype option on import or set low_memory=False.\n",
      "  eeg_df = pd.read_csv(eeg_file, header=None, usecols=range(1, 17 + 1))\n"
     ]
    },
    {
     "name": "stdout",
     "output_type": "stream",
     "text": [
      "✅ Participante 6: EEG (70017, 17), Eventos (96, 3)\n"
     ]
    },
    {
     "name": "stderr",
     "output_type": "stream",
     "text": [
      "C:\\Users\\Usuario\\AppData\\Local\\Temp\\ipykernel_4864\\4125135650.py:6: DtypeWarning: Columns (1,2,3,4,5,6,7,8,9,10,11,12,13,14,15,16,17) have mixed types. Specify dtype option on import or set low_memory=False.\n",
      "  eeg_df = pd.read_csv(eeg_file, header=None, usecols=range(1, 17 + 1))\n"
     ]
    },
    {
     "name": "stdout",
     "output_type": "stream",
     "text": [
      "✅ Participante 7: EEG (72033, 17), Eventos (96, 3)\n"
     ]
    },
    {
     "name": "stderr",
     "output_type": "stream",
     "text": [
      "C:\\Users\\Usuario\\AppData\\Local\\Temp\\ipykernel_4864\\4125135650.py:6: DtypeWarning: Columns (1,2,3,4,5,6,7,8,9,10,11,12,13,14,15,16,17) have mixed types. Specify dtype option on import or set low_memory=False.\n",
      "  eeg_df = pd.read_csv(eeg_file, header=None, usecols=range(1, 17 + 1))\n"
     ]
    },
    {
     "name": "stdout",
     "output_type": "stream",
     "text": [
      "✅ Participante 8: EEG (79081, 17), Eventos (96, 3)\n"
     ]
    },
    {
     "name": "stderr",
     "output_type": "stream",
     "text": [
      "C:\\Users\\Usuario\\AppData\\Local\\Temp\\ipykernel_4864\\4125135650.py:6: DtypeWarning: Columns (1,2,3,4,5,6,7,8,9,10,11,12,13,14,15,16,17) have mixed types. Specify dtype option on import or set low_memory=False.\n",
      "  eeg_df = pd.read_csv(eeg_file, header=None, usecols=range(1, 17 + 1))\n"
     ]
    },
    {
     "name": "stdout",
     "output_type": "stream",
     "text": [
      "✅ Participante 9: EEG (73129, 17), Eventos (96, 3)\n"
     ]
    },
    {
     "name": "stderr",
     "output_type": "stream",
     "text": [
      "C:\\Users\\Usuario\\AppData\\Local\\Temp\\ipykernel_4864\\4125135650.py:6: DtypeWarning: Columns (1,2,3,4,5,6,7,8,9,10,11,12,13,14,15,16,17) have mixed types. Specify dtype option on import or set low_memory=False.\n",
      "  eeg_df = pd.read_csv(eeg_file, header=None, usecols=range(1, 17 + 1))\n"
     ]
    },
    {
     "name": "stdout",
     "output_type": "stream",
     "text": [
      "✅ Participante 10: EEG (71249, 17), Eventos (96, 3)\n"
     ]
    },
    {
     "name": "stderr",
     "output_type": "stream",
     "text": [
      "C:\\Users\\Usuario\\AppData\\Local\\Temp\\ipykernel_4864\\4125135650.py:6: DtypeWarning: Columns (1,2,3,4,5,6,7,8,9,10,11,12,13,14,15,16,17) have mixed types. Specify dtype option on import or set low_memory=False.\n",
      "  eeg_df = pd.read_csv(eeg_file, header=None, usecols=range(1, 17 + 1))\n"
     ]
    },
    {
     "name": "stdout",
     "output_type": "stream",
     "text": [
      "✅ Participante 11: EEG (69809, 17), Eventos (96, 3)\n"
     ]
    },
    {
     "name": "stderr",
     "output_type": "stream",
     "text": [
      "C:\\Users\\Usuario\\AppData\\Local\\Temp\\ipykernel_4864\\4125135650.py:6: DtypeWarning: Columns (1,2,3,4,5,6,7,8,9,10,11,12,13,14,15,16,17) have mixed types. Specify dtype option on import or set low_memory=False.\n",
      "  eeg_df = pd.read_csv(eeg_file, header=None, usecols=range(1, 17 + 1))\n"
     ]
    },
    {
     "name": "stdout",
     "output_type": "stream",
     "text": [
      "✅ Participante 12: EEG (72705, 17), Eventos (96, 3)\n"
     ]
    },
    {
     "name": "stderr",
     "output_type": "stream",
     "text": [
      "C:\\Users\\Usuario\\AppData\\Local\\Temp\\ipykernel_4864\\4125135650.py:6: DtypeWarning: Columns (1,2,3,4,5,6,7,8,9,10,11,12,13,14,15,16,17) have mixed types. Specify dtype option on import or set low_memory=False.\n",
      "  eeg_df = pd.read_csv(eeg_file, header=None, usecols=range(1, 17 + 1))\n"
     ]
    },
    {
     "name": "stdout",
     "output_type": "stream",
     "text": [
      "✅ Participante 13: EEG (75473, 17), Eventos (96, 3)\n"
     ]
    },
    {
     "name": "stderr",
     "output_type": "stream",
     "text": [
      "C:\\Users\\Usuario\\AppData\\Local\\Temp\\ipykernel_4864\\4125135650.py:6: DtypeWarning: Columns (1,2,3,4,5,6,7,8,9,10,11,12,13,14,15,16,17) have mixed types. Specify dtype option on import or set low_memory=False.\n",
      "  eeg_df = pd.read_csv(eeg_file, header=None, usecols=range(1, 17 + 1))\n"
     ]
    },
    {
     "name": "stdout",
     "output_type": "stream",
     "text": [
      "✅ Participante 14: EEG (70817, 17), Eventos (96, 3)\n"
     ]
    },
    {
     "name": "stderr",
     "output_type": "stream",
     "text": [
      "C:\\Users\\Usuario\\AppData\\Local\\Temp\\ipykernel_4864\\4125135650.py:6: DtypeWarning: Columns (1,2,3,4,5,6,7,8,9,10,11,12,13,14,15,16,17) have mixed types. Specify dtype option on import or set low_memory=False.\n",
      "  eeg_df = pd.read_csv(eeg_file, header=None, usecols=range(1, 17 + 1))\n"
     ]
    },
    {
     "name": "stdout",
     "output_type": "stream",
     "text": [
      "✅ Participante 15: EEG (72273, 17), Eventos (96, 3)\n"
     ]
    },
    {
     "name": "stderr",
     "output_type": "stream",
     "text": [
      "C:\\Users\\Usuario\\AppData\\Local\\Temp\\ipykernel_4864\\4125135650.py:6: DtypeWarning: Columns (1,2,3,4,5,6,7,8,9,10,11,12,13,14,15,16,17) have mixed types. Specify dtype option on import or set low_memory=False.\n",
      "  eeg_df = pd.read_csv(eeg_file, header=None, usecols=range(1, 17 + 1))\n"
     ]
    },
    {
     "name": "stdout",
     "output_type": "stream",
     "text": [
      "✅ Participante 16: EEG (70265, 17), Eventos (96, 3)\n"
     ]
    },
    {
     "name": "stderr",
     "output_type": "stream",
     "text": [
      "C:\\Users\\Usuario\\AppData\\Local\\Temp\\ipykernel_4864\\4125135650.py:6: DtypeWarning: Columns (1,2,3,4,5,6,7,8,9,10,11,12,13,14,15,16,17) have mixed types. Specify dtype option on import or set low_memory=False.\n",
      "  eeg_df = pd.read_csv(eeg_file, header=None, usecols=range(1, 17 + 1))\n"
     ]
    },
    {
     "name": "stdout",
     "output_type": "stream",
     "text": [
      "✅ Participante 17: EEG (72441, 17), Eventos (96, 3)\n"
     ]
    },
    {
     "name": "stderr",
     "output_type": "stream",
     "text": [
      "C:\\Users\\Usuario\\AppData\\Local\\Temp\\ipykernel_4864\\4125135650.py:6: DtypeWarning: Columns (1,2,3,4,5,6,7,8,9,10,11,12,13,14,15,16,17) have mixed types. Specify dtype option on import or set low_memory=False.\n",
      "  eeg_df = pd.read_csv(eeg_file, header=None, usecols=range(1, 17 + 1))\n"
     ]
    },
    {
     "name": "stdout",
     "output_type": "stream",
     "text": [
      "✅ Participante 18: EEG (71449, 17), Eventos (96, 3)\n",
      "✅ Participante 19: EEG (70817, 17), Eventos (96, 3)\n"
     ]
    },
    {
     "name": "stderr",
     "output_type": "stream",
     "text": [
      "C:\\Users\\Usuario\\AppData\\Local\\Temp\\ipykernel_4864\\4125135650.py:6: DtypeWarning: Columns (1,2,3,4,5,6,7,8,9,10,11,12,13,14,15,16,17) have mixed types. Specify dtype option on import or set low_memory=False.\n",
      "  eeg_df = pd.read_csv(eeg_file, header=None, usecols=range(1, 17 + 1))\n"
     ]
    }
   ],
   "source": [
    "for i in range(1, 20):\n",
    "    eeg_file = os.path.join(nback_path, f\"EEG_{i}.csv\")\n",
    "    nback_file = os.path.join(nback_path, f\"NBack_{i}.csv\")\n",
    "\n",
    "    try:\n",
    "        eeg_df = pd.read_csv(eeg_file, header=None, usecols=range(1, 17 + 1))\n",
    "        eeg_df.columns = eeg_columns\n",
    "        eeg_data[i] = eeg_df\n",
    "\n",
    "        events_df = cargar_eventos_limpios(nback_file)\n",
    "        nback_events[i] = events_df\n",
    "\n",
    "        print(f\"✅ Participante {i}: EEG {eeg_df.shape}, Eventos {events_df.shape}\")\n",
    "\n",
    "    except Exception as e:\n",
    "        print(f\"❌ Error cargando participante {i}: {e}\")\n"
   ]
  },
  {
   "cell_type": "markdown",
   "id": "33bab395-6a28-4fa4-b24c-c5dbc4b055c6",
   "metadata": {},
   "source": [
    "## 🧠 Detección de bloques de carga cognitiva (n=1, 2, 3)\n",
    "\n",
    "En esta etapa se recorren los eventos limpios de cada participante para identificar los bloques de prueba del test n-Back. El objetivo es determinar los intervalos temporales donde el participante estuvo realizando tareas cognitivas con diferente nivel de exigencia.\n",
    "\n",
    "El procedimiento es el siguiente:\n",
    "\n",
    "1. Se recorre el DataFrame de eventos de cada participante (`nback_events`).\n",
    "2. Se detecta cada evento de inicio de test (`EventCode == 1`), y se extrae el valor de `Notes`, que indica el nivel de n (1, 2 o 3).\n",
    "3. A continuación, se busca el siguiente evento de fin de test (`EventCode == 2`) para definir el rango temporal del bloque.\n",
    "4. Cada bloque se almacena con:\n",
    "   - ID del participante\n",
    "   - Nivel `n`\n",
    "   - Etiqueta de carga cognitiva (`baja`, `media`, `alta`)\n",
    "   - Tiempos de inicio y fin\n",
    "\n",
    "Finalmente, se construye un DataFrame `df_bloques` con todos los bloques válidos detectados, que servirá como base para extraer las señales EEG correspondientes en los siguientes pasos.\n"
   ]
  },
  {
   "cell_type": "code",
   "execution_count": 22,
   "id": "60e18ffb-4366-413a-b7fb-3469c9fdfd6c",
   "metadata": {},
   "outputs": [
    {
     "name": "stdout",
     "output_type": "stream",
     "text": [
      "🔍 Se detectaron 57 bloques válidos.\n"
     ]
    },
    {
     "data": {
      "text/html": [
       "<div>\n",
       "<style scoped>\n",
       "    .dataframe tbody tr th:only-of-type {\n",
       "        vertical-align: middle;\n",
       "    }\n",
       "\n",
       "    .dataframe tbody tr th {\n",
       "        vertical-align: top;\n",
       "    }\n",
       "\n",
       "    .dataframe thead th {\n",
       "        text-align: right;\n",
       "    }\n",
       "</style>\n",
       "<table border=\"1\" class=\"dataframe\">\n",
       "  <thead>\n",
       "    <tr style=\"text-align: right;\">\n",
       "      <th></th>\n",
       "      <th>Participante</th>\n",
       "      <th>n</th>\n",
       "      <th>Carga</th>\n",
       "      <th>Inicio</th>\n",
       "      <th>Fin</th>\n",
       "    </tr>\n",
       "  </thead>\n",
       "  <tbody>\n",
       "    <tr>\n",
       "      <th>0</th>\n",
       "      <td>1</td>\n",
       "      <td>1</td>\n",
       "      <td>baja</td>\n",
       "      <td>17.921582</td>\n",
       "      <td>95.025439</td>\n",
       "    </tr>\n",
       "    <tr>\n",
       "      <th>1</th>\n",
       "      <td>1</td>\n",
       "      <td>2</td>\n",
       "      <td>media</td>\n",
       "      <td>108.525476</td>\n",
       "      <td>185.557888</td>\n",
       "    </tr>\n",
       "    <tr>\n",
       "      <th>2</th>\n",
       "      <td>1</td>\n",
       "      <td>3</td>\n",
       "      <td>alta</td>\n",
       "      <td>229.415478</td>\n",
       "      <td>306.500803</td>\n",
       "    </tr>\n",
       "    <tr>\n",
       "      <th>3</th>\n",
       "      <td>2</td>\n",
       "      <td>1</td>\n",
       "      <td>baja</td>\n",
       "      <td>17.208425</td>\n",
       "      <td>93.866600</td>\n",
       "    </tr>\n",
       "    <tr>\n",
       "      <th>4</th>\n",
       "      <td>2</td>\n",
       "      <td>2</td>\n",
       "      <td>media</td>\n",
       "      <td>102.714854</td>\n",
       "      <td>179.411212</td>\n",
       "    </tr>\n",
       "  </tbody>\n",
       "</table>\n",
       "</div>"
      ],
      "text/plain": [
       "   Participante  n  Carga      Inicio         Fin\n",
       "0             1  1   baja   17.921582   95.025439\n",
       "1             1  2  media  108.525476  185.557888\n",
       "2             1  3   alta  229.415478  306.500803\n",
       "3             2  1   baja   17.208425   93.866600\n",
       "4             2  2  media  102.714854  179.411212"
      ]
     },
     "execution_count": 22,
     "metadata": {},
     "output_type": "execute_result"
    }
   ],
   "source": [
    "# Lista para almacenar los bloques de carga cognitiva\n",
    "bloques_cognitivos = []\n",
    "\n",
    "for pid, eventos in nback_events.items():\n",
    "    eventos = eventos.reset_index(drop=True)\n",
    "\n",
    "    i = 0\n",
    "    while i < len(eventos):\n",
    "        if eventos.loc[i, \"EventCode\"] == 1:\n",
    "            start_time = eventos.loc[i, \"Time\"]\n",
    "            nivel_n = int(eventos.loc[i, \"Notes\"]) if pd.notna(eventos.loc[i, \"Notes\"]) else None\n",
    "\n",
    "            # Buscar siguiente fin del bloque\n",
    "            for j in range(i+1, len(eventos)):\n",
    "                if eventos.loc[j, \"EventCode\"] == 2:\n",
    "                    end_time = eventos.loc[j, \"Time\"]\n",
    "\n",
    "                    bloques_cognitivos.append({\n",
    "                        \"Participante\": pid,\n",
    "                        \"n\": nivel_n,\n",
    "                        \"Carga\": {1: \"baja\", 2: \"media\", 3: \"alta\"}.get(nivel_n, \"desconocida\"),\n",
    "                        \"Inicio\": float(start_time),\n",
    "                        \"Fin\": float(end_time)\n",
    "                    })\n",
    "                    i = j\n",
    "                    break\n",
    "        i += 1\n",
    "\n",
    "# Convertir a DataFrame\n",
    "df_bloques = pd.DataFrame(bloques_cognitivos)\n",
    "print(f\"🔍 Se detectaron {len(df_bloques)} bloques válidos.\")\n",
    "df_bloques.head()\n"
   ]
  },
  {
   "cell_type": "markdown",
   "id": "b82bc31d-06e3-4c27-bb5c-1e291303a6a5",
   "metadata": {},
   "source": [
    "## ✂️ Sección 3: Segmentación en ventanas por bloque de carga cognitiva\n",
    "\n",
    "Dividimos cada bloque en ventanas deslizantes de 2 segundos (512 muestras) con un solapamiento de 50%. Cada ventana se etiqueta según la carga cognitiva (`baja`, `media`, `alta`) asociada al bloque del que proviene.\n"
   ]
  },
  {
   "cell_type": "code",
   "execution_count": 24,
   "id": "c3edbb9e-b2dd-44d1-a26c-069650f59242",
   "metadata": {},
   "outputs": [
    {
     "name": "stdout",
     "output_type": "stream",
     "text": [
      "✅ Total de ventanas generadas: 4298\n"
     ]
    }
   ],
   "source": [
    "import numpy as np\n",
    "\n",
    "# Parámetros\n",
    "fs = 256  # Frecuencia de muestreo en Hz\n",
    "window_sec = 2\n",
    "window_size = fs * window_sec\n",
    "stride = window_size // 2  # 50% de solapamiento\n",
    "\n",
    "X = []  # Datos\n",
    "y = []  # Etiquetas (carga cognitiva)\n",
    "info = []  # Información de origen (participante, bloque)\n",
    "\n",
    "for _, row in df_bloques.iterrows():\n",
    "    pid = row[\"Participante\"]\n",
    "    start = row[\"Inicio\"]\n",
    "    end = row[\"Fin\"]\n",
    "    label = row[\"Carga\"]\n",
    "\n",
    "    eeg = eeg_data[pid].copy()\n",
    "    eeg[\"Time\"] = pd.to_numeric(eeg[\"Time\"], errors=\"coerce\")\n",
    "\n",
    "    \n",
    "    # Recortar datos del bloque\n",
    "    bloque_df = eeg[(eeg[\"Time\"] >= start) & (eeg[\"Time\"] <= end)].reset_index(drop=True)\n",
    "    señal = bloque_df.drop(columns=[\"Time\"]).values  # solo señales EEG\n",
    "\n",
    "    # Crear ventanas\n",
    "    for i in range(0, len(señal) - window_size + 1, stride):\n",
    "        ventana = señal[i:i + window_size]\n",
    "        if ventana.shape[0] == window_size:\n",
    "            X.append(ventana)\n",
    "            y.append(label)\n",
    "            info.append({\n",
    "                \"Participante\": pid,\n",
    "                \"Inicio_bloque\": start,\n",
    "                \"Ventana_idx\": i\n",
    "            })\n",
    "\n",
    "print(f\"✅ Total de ventanas generadas: {len(X)}\")\n"
   ]
  },
  {
   "cell_type": "markdown",
   "id": "107e81c2-b73a-4f98-ad17-bf9ae64675ec",
   "metadata": {},
   "source": [
    "## 🪟 Generación de ventanas EEG (ventaneo con solapamiento)\n",
    "\n",
    "Una vez identificados los bloques temporales correspondientes a las tareas de carga cognitiva, se procede a dividir las señales EEG de esos bloques en **ventanas temporales fijas** para su posterior análisis.\n",
    "\n",
    "### Parámetros utilizados:\n",
    "- 📈 **Frecuencia de muestreo (fs):** 256 Hz\n",
    "- ⏱ **Tamaño de ventana:** 2 segundos (512 muestras)\n",
    "- 🔄 **Solapamiento:** 50% (stride de 256 muestras)\n",
    "\n",
    "### Procedimiento:\n",
    "1. Para cada bloque (`df_bloques`):\n",
    "   - Se extrae la señal EEG asociada al participante dentro del intervalo `[Inicio, Fin]`.\n",
    "   - Se eliminan las columnas no relacionadas con la señal (`Time`).\n",
    "2. Se divide la señal EEG en ventanas de 2 segundos con solapamiento del 50%.\n",
    "3. Cada ventana se añade a la lista `X` junto con:\n",
    "   - La etiqueta de carga cognitiva (`y`)\n",
    "   - Información auxiliar (`info`) que indica el participante, el inicio del bloque y el índice de la ventana dentro del bloque.\n",
    "\n",
    "> ✅ El resultado es una segmentación detallada de la señal EEG en miles de pequeñas ventanas temporales listas para ser procesadas o clasificadas.\n",
    "\n"
   ]
  },
  {
   "cell_type": "code",
   "execution_count": 26,
   "id": "ebfd620b-702d-4744-9882-2a23992489a8",
   "metadata": {},
   "outputs": [
    {
     "name": "stdout",
     "output_type": "stream",
     "text": [
      "✅ Shape final del dataset de entrenamiento: (4298, 80)\n"
     ]
    },
    {
     "data": {
      "text/html": [
       "<div>\n",
       "<style scoped>\n",
       "    .dataframe tbody tr th:only-of-type {\n",
       "        vertical-align: middle;\n",
       "    }\n",
       "\n",
       "    .dataframe tbody tr th {\n",
       "        vertical-align: top;\n",
       "    }\n",
       "\n",
       "    .dataframe thead th {\n",
       "        text-align: right;\n",
       "    }\n",
       "</style>\n",
       "<table border=\"1\" class=\"dataframe\">\n",
       "  <thead>\n",
       "    <tr style=\"text-align: right;\">\n",
       "      <th></th>\n",
       "      <th>0</th>\n",
       "      <th>1</th>\n",
       "      <th>2</th>\n",
       "      <th>3</th>\n",
       "      <th>4</th>\n",
       "      <th>5</th>\n",
       "      <th>6</th>\n",
       "      <th>7</th>\n",
       "      <th>8</th>\n",
       "      <th>9</th>\n",
       "      <th>...</th>\n",
       "      <th>70</th>\n",
       "      <th>71</th>\n",
       "      <th>72</th>\n",
       "      <th>73</th>\n",
       "      <th>74</th>\n",
       "      <th>75</th>\n",
       "      <th>76</th>\n",
       "      <th>77</th>\n",
       "      <th>78</th>\n",
       "      <th>79</th>\n",
       "    </tr>\n",
       "  </thead>\n",
       "  <tbody>\n",
       "    <tr>\n",
       "      <th>0</th>\n",
       "      <td>2259.679199</td>\n",
       "      <td>16.379156</td>\n",
       "      <td>2.614486e+09</td>\n",
       "      <td>2.738324</td>\n",
       "      <td>0.785468</td>\n",
       "      <td>14764.160156</td>\n",
       "      <td>22.073820</td>\n",
       "      <td>1.116062e+11</td>\n",
       "      <td>-0.093400</td>\n",
       "      <td>-0.071496</td>\n",
       "      <td>...</td>\n",
       "      <td>14500.078125</td>\n",
       "      <td>13.361956</td>\n",
       "      <td>1.076493e+11</td>\n",
       "      <td>0.310036</td>\n",
       "      <td>0.318817</td>\n",
       "      <td>18618.755859</td>\n",
       "      <td>71.672508</td>\n",
       "      <td>1.774916e+11</td>\n",
       "      <td>6.460279</td>\n",
       "      <td>2.613288</td>\n",
       "    </tr>\n",
       "    <tr>\n",
       "      <th>1</th>\n",
       "      <td>2268.835205</td>\n",
       "      <td>18.877127</td>\n",
       "      <td>2.635760e+09</td>\n",
       "      <td>2.954026</td>\n",
       "      <td>1.153165</td>\n",
       "      <td>14789.911133</td>\n",
       "      <td>19.300838</td>\n",
       "      <td>1.119958e+11</td>\n",
       "      <td>-0.464952</td>\n",
       "      <td>-0.261205</td>\n",
       "      <td>...</td>\n",
       "      <td>14515.873047</td>\n",
       "      <td>19.247169</td>\n",
       "      <td>1.078840e+11</td>\n",
       "      <td>-0.605284</td>\n",
       "      <td>0.083866</td>\n",
       "      <td>18589.925781</td>\n",
       "      <td>28.710974</td>\n",
       "      <td>1.769401e+11</td>\n",
       "      <td>12.508066</td>\n",
       "      <td>3.267175</td>\n",
       "    </tr>\n",
       "    <tr>\n",
       "      <th>2</th>\n",
       "      <td>2279.477539</td>\n",
       "      <td>16.451454</td>\n",
       "      <td>2.660499e+09</td>\n",
       "      <td>2.428931</td>\n",
       "      <td>0.849114</td>\n",
       "      <td>14816.332031</td>\n",
       "      <td>19.668150</td>\n",
       "      <td>1.123963e+11</td>\n",
       "      <td>-0.460668</td>\n",
       "      <td>0.240438</td>\n",
       "      <td>...</td>\n",
       "      <td>14548.080078</td>\n",
       "      <td>21.879431</td>\n",
       "      <td>1.083633e+11</td>\n",
       "      <td>-0.963519</td>\n",
       "      <td>-0.011530</td>\n",
       "      <td>18592.962891</td>\n",
       "      <td>27.677202</td>\n",
       "      <td>1.769979e+11</td>\n",
       "      <td>13.336609</td>\n",
       "      <td>3.386917</td>\n",
       "    </tr>\n",
       "    <tr>\n",
       "      <th>3</th>\n",
       "      <td>2290.175049</td>\n",
       "      <td>20.826979</td>\n",
       "      <td>2.685612e+09</td>\n",
       "      <td>5.132688</td>\n",
       "      <td>2.002388</td>\n",
       "      <td>14851.333984</td>\n",
       "      <td>26.708067</td>\n",
       "      <td>1.129282e+11</td>\n",
       "      <td>-0.837048</td>\n",
       "      <td>0.242566</td>\n",
       "      <td>...</td>\n",
       "      <td>14584.726562</td>\n",
       "      <td>24.133131</td>\n",
       "      <td>1.089100e+11</td>\n",
       "      <td>-0.710359</td>\n",
       "      <td>0.314405</td>\n",
       "      <td>18597.681641</td>\n",
       "      <td>27.776031</td>\n",
       "      <td>1.770878e+11</td>\n",
       "      <td>10.256764</td>\n",
       "      <td>3.128704</td>\n",
       "    </tr>\n",
       "    <tr>\n",
       "      <th>4</th>\n",
       "      <td>2307.469238</td>\n",
       "      <td>20.982327</td>\n",
       "      <td>2.726325e+09</td>\n",
       "      <td>0.764410</td>\n",
       "      <td>0.598701</td>\n",
       "      <td>14891.180664</td>\n",
       "      <td>24.545609</td>\n",
       "      <td>1.135349e+11</td>\n",
       "      <td>-0.795540</td>\n",
       "      <td>-0.390139</td>\n",
       "      <td>...</td>\n",
       "      <td>14623.507812</td>\n",
       "      <td>24.706184</td>\n",
       "      <td>1.094900e+11</td>\n",
       "      <td>-1.011092</td>\n",
       "      <td>-0.265273</td>\n",
       "      <td>18600.939453</td>\n",
       "      <td>26.501390</td>\n",
       "      <td>1.771498e+11</td>\n",
       "      <td>11.226396</td>\n",
       "      <td>3.302021</td>\n",
       "    </tr>\n",
       "  </tbody>\n",
       "</table>\n",
       "<p>5 rows × 80 columns</p>\n",
       "</div>"
      ],
      "text/plain": [
       "            0          1             2         3         4             5   \\\n",
       "0  2259.679199  16.379156  2.614486e+09  2.738324  0.785468  14764.160156   \n",
       "1  2268.835205  18.877127  2.635760e+09  2.954026  1.153165  14789.911133   \n",
       "2  2279.477539  16.451454  2.660499e+09  2.428931  0.849114  14816.332031   \n",
       "3  2290.175049  20.826979  2.685612e+09  5.132688  2.002388  14851.333984   \n",
       "4  2307.469238  20.982327  2.726325e+09  0.764410  0.598701  14891.180664   \n",
       "\n",
       "          6             7         8         9   ...            70         71  \\\n",
       "0  22.073820  1.116062e+11 -0.093400 -0.071496  ...  14500.078125  13.361956   \n",
       "1  19.300838  1.119958e+11 -0.464952 -0.261205  ...  14515.873047  19.247169   \n",
       "2  19.668150  1.123963e+11 -0.460668  0.240438  ...  14548.080078  21.879431   \n",
       "3  26.708067  1.129282e+11 -0.837048  0.242566  ...  14584.726562  24.133131   \n",
       "4  24.545609  1.135349e+11 -0.795540 -0.390139  ...  14623.507812  24.706184   \n",
       "\n",
       "             72        73        74            75         76            77  \\\n",
       "0  1.076493e+11  0.310036  0.318817  18618.755859  71.672508  1.774916e+11   \n",
       "1  1.078840e+11 -0.605284  0.083866  18589.925781  28.710974  1.769401e+11   \n",
       "2  1.083633e+11 -0.963519 -0.011530  18592.962891  27.677202  1.769979e+11   \n",
       "3  1.089100e+11 -0.710359  0.314405  18597.681641  27.776031  1.770878e+11   \n",
       "4  1.094900e+11 -1.011092 -0.265273  18600.939453  26.501390  1.771498e+11   \n",
       "\n",
       "          78        79  \n",
       "0   6.460279  2.613288  \n",
       "1  12.508066  3.267175  \n",
       "2  13.336609  3.386917  \n",
       "3  10.256764  3.128704  \n",
       "4  11.226396  3.302021  \n",
       "\n",
       "[5 rows x 80 columns]"
      ]
     },
     "execution_count": 26,
     "metadata": {},
     "output_type": "execute_result"
    }
   ],
   "source": [
    "import numpy as np\n",
    "from scipy.stats import kurtosis, skew\n",
    "import pandas as pd\n",
    "\n",
    "# Asegurar que la señal esté en float para evitar errores al aplicar funciones estadísticas\n",
    "X_float = []\n",
    "\n",
    "for i, bloque in enumerate(df_bloques.itertuples()):\n",
    "    pid = bloque.Participante\n",
    "    start = bloque.Inicio\n",
    "    end = bloque.Fin\n",
    "    label = bloque.Carga\n",
    "\n",
    "    eeg = eeg_data[pid].copy()\n",
    "    eeg[\"Time\"] = pd.to_numeric(eeg[\"Time\"], errors=\"coerce\")\n",
    "    \n",
    "    bloque_df = eeg[(eeg[\"Time\"] >= start) & (eeg[\"Time\"] <= end)].reset_index(drop=True)\n",
    "    señal = bloque_df.drop(columns=[\"Time\"]).astype(\"float32\").values  # 👈 conversión corregida\n",
    "\n",
    "    fs = 256\n",
    "    window_size = fs * 2  # 2 segundos\n",
    "    stride = window_size // 2  # 50% solapamiento\n",
    "\n",
    "    for j in range(0, len(señal) - window_size + 1, stride):\n",
    "        ventana = señal[j:j+window_size]\n",
    "        if ventana.shape[0] == window_size:\n",
    "            X_float.append((ventana, label))\n",
    "\n",
    "# Función para extraer estadísticas\n",
    "def extraer_features(ventana):\n",
    "    features = []\n",
    "    for canal in range(ventana.shape[1]):\n",
    "        señal = ventana[:, canal]\n",
    "        features.extend([\n",
    "            np.mean(señal),\n",
    "            np.std(señal),\n",
    "            np.sum(señal**2),\n",
    "            kurtosis(señal),\n",
    "            skew(señal)\n",
    "        ])\n",
    "    return features\n",
    "\n",
    "# Aplicar a todas las ventanas\n",
    "X_features = [extraer_features(v[0]) for v in X_float]\n",
    "y = [v[1] for v in X_float]\n",
    "\n",
    "# Convertir a DataFrame\n",
    "X_df = pd.DataFrame(X_features)\n",
    "y_df = pd.Series(y, name=\"Carga\")\n",
    "\n",
    "print(f\"✅ Shape final del dataset de entrenamiento: {X_df.shape}\")\n",
    "X_df.head()\n"
   ]
  },
  {
   "cell_type": "markdown",
   "id": "d09da5cd-3c77-4889-a670-d000fa0bce6b",
   "metadata": {},
   "source": [
    "## 🧠 Entrenamiento del modelo de clasificación\n",
    "\n",
    "Para predecir el nivel de carga cognitiva a partir de las características extraídas de las ventanas EEG, se ha optado inicialmente por un modelo de **Random Forest** (`RandomForestClassifier`) debido a varias ventajas clave:\n",
    "\n",
    "### 🔍 ¿Por qué Random Forest?\n",
    "- ✅ **Robustez ante ruido**: Ideal para señales EEG, que tienden a ser ruidosas y variables entre participantes.\n",
    "- ✅ **No requiere normalización extrema**: Funciona bien con características estadísticas como las usadas aquí (media, varianza, energía, kurtosis, etc.).\n",
    "- ✅ **Manejo de clases desbalanceadas**: Permite usar `stratify` y tiene mecanismos internos para mejorar el equilibrio.\n",
    "- ✅ **Importancia de variables**: Proporciona directamente métricas para evaluar qué features son más relevantes.\n",
    "\n",
    "---\n",
    "\n",
    "### 🧪 Proceso:\n",
    "1. **Codificación de etiquetas**:\n",
    "   - Se utiliza `LabelEncoder` para transformar las etiquetas categóricas (`baja`, `media`, `alta`) en valores numéricos.\n",
    "   - Mapeo: `baja = 0`, `media = 1`, `alta = 2`.\n",
    "\n",
    "2. **División del conjunto de datos**:\n",
    "   - 80% entrenamiento y 20% prueba (`stratify` para mantener proporción de clases).\n",
    "\n",
    "3. **Entrenamiento del modelo**:\n",
    "   - Se entrena un `RandomForestClassifier` con 100 árboles (`n_estimators=100`) y semilla fija (`random_state=42`).\n",
    "\n",
    "4. **Evaluación**:\n",
    "   - Se calcula la `accuracy` del modelo en el conjunto de prueba.\n",
    "   - Se genera el `classification_report` con métricas por clase: precisión, recall, F1.\n",
    "   - Se muestra la `matriz de confusión` con `Seaborn`.\n",
    "\n",
    "---\n",
    "\n",
    "\n",
    "\n",
    "> 💡 Este modelo sirve como **línea base sólida**, sobre la que posteriormente se pueden comparar otros modelos como `SVM`, `XGBoost` o redes neuronales (`MLP`).\n"
   ]
  },
  {
   "cell_type": "code",
   "execution_count": 27,
   "id": "740998d4-2f40-4b35-8590-ca7191261db3",
   "metadata": {},
   "outputs": [
    {
     "name": "stdout",
     "output_type": "stream",
     "text": [
      "✅ Accuracy del modelo: 100.00%\n",
      "\n",
      "📊 Reporte de clasificación:\n",
      "              precision    recall  f1-score   support\n",
      "\n",
      "        alta       1.00      1.00      1.00       287\n",
      "        baja       1.00      1.00      1.00       286\n",
      "       media       1.00      1.00      1.00       287\n",
      "\n",
      "    accuracy                           1.00       860\n",
      "   macro avg       1.00      1.00      1.00       860\n",
      "weighted avg       1.00      1.00      1.00       860\n",
      "\n"
     ]
    },
    {
     "data": {
      "image/png": "[encoded data removed]",
      "text/plain": [
       "<Figure size 640x480 with 2 Axes>"
      ]
     },
     "metadata": {},
     "output_type": "display_data"
    }
   ],
   "source": [
    "from sklearn.model_selection import train_test_split\n",
    "from sklearn.ensemble import RandomForestClassifier\n",
    "from sklearn.metrics import accuracy_score, confusion_matrix, classification_report\n",
    "from sklearn.preprocessing import LabelEncoder\n",
    "import seaborn as sns\n",
    "import matplotlib.pyplot as plt\n",
    "\n",
    "# Codificar etiquetas\n",
    "le = LabelEncoder()\n",
    "y_encoded = le.fit_transform(y_df)  # baja=0, media=1, alta=2\n",
    "\n",
    "# Dividir en train/test\n",
    "X_train, X_test, y_train, y_test = train_test_split(X_df, y_encoded, test_size=0.2, random_state=42, stratify=y_encoded)\n",
    "\n",
    "# Entrenar modelo\n",
    "clf = RandomForestClassifier(n_estimators=100, random_state=42)\n",
    "clf.fit(X_train, y_train)\n",
    "\n",
    "# Predicción\n",
    "y_pred = clf.predict(X_test)\n",
    "\n",
    "# Evaluación\n",
    "acc = accuracy_score(y_test, y_pred)\n",
    "print(f\"✅ Accuracy del modelo: {acc:.2%}\")\n",
    "print(\"\\n📊 Reporte de clasificación:\")\n",
    "print(classification_report(y_test, y_pred, target_names=le.classes_))\n",
    "\n",
    "# Matriz de confusión\n",
    "cm = confusion_matrix(y_test, y_pred)\n",
    "sns.heatmap(cm, annot=True, fmt=\"d\", cmap=\"Blues\", xticklabels=le.classes_, yticklabels=le.classes_)\n",
    "plt.xlabel(\"Predicción\")\n",
    "plt.ylabel(\"Real\")\n",
    "plt.title(\"Matriz de Confusión\")\n",
    "plt.show()\n"
   ]
  },
  {
   "cell_type": "markdown",
   "id": "1339acf6-b3bb-4fe6-ad02-b58e0e5453b4",
   "metadata": {},
   "source": [
    "## 🤖 Comparación de modelos de clasificación\n",
    "\n",
    "Para evaluar cuál es el mejor modelo para predecir la carga cognitiva a partir de las características EEG, se realiza una comparación entre cuatro algoritmos de clasificación ampliamente utilizados:\n",
    "\n",
    "### Modelos evaluados:\n",
    "- **Random Forest**: modelo basado en ensamblado de árboles, robusto frente al ruido.\n",
    "- **SVM (RBF)**: máquina de vectores soporte con kernel radial.\n",
    "- **XGBoost**: algoritmo de boosting altamente eficiente y optimizado.\n",
    "- **MLP**: perceptrón multicapa (red neuronal feedforward simple).\n",
    "\n",
    "### ⚙️ Configuración:\n",
    "- Se utilizó validación cruzada (`cross_val_score`) con 5 particiones (`cv=5`).\n",
    "- En los modelos `SVM` y `MLP` se aplicó normalización (`StandardScaler`) mediante `pipeline`.\n",
    "- La métrica utilizada fue **accuracy media** y su desviación estándar.\n",
    "\n",
    "### 📊 Resultados obtenidos:\n",
    "\n",
    "| Modelo         | Accuracy Media | Desviación Estándar |\n",
    "|----------------|----------------|----------------------|\n",
    "| ✅ XGBoost      | **44.65%**      | ± 3.35%              |\n",
    "| ✅ RandomForest | 43.95%         | ± 3.27%              |\n",
    "| ✅ MLP          | 39.51%         | ± 2.64%              |\n",
    "| ✅ SVM (RBF)    | 35.30%         | ± 0.82%              |\n",
    "\n",
    "### 🧠 Interpretación:\n",
    "\n",
    "- El modelo **XGBoost** obtuvo el mejor rendimiento, aunque solo ligeramente superior al de Random Forest, lo que confirma la utilidad de métodos de ensamblado en problemas ruidosos como el EEG.\n",
    "- El **Random Forest** sigue siendo una opción sólida y fácil de interpretar.\n",
    "- El **MLP** se comporta razonablemente bien, aunque parece requerir una mayor optimización (por ejemplo, ajuste de número de capas, neuronas o épocas).\n",
    "- El **SVM con kernel RBF**, a pesar de su uso habitual en clasificación, no logra buenos resultados en este caso. Esto puede deberse a la complejidad y ruido de los datos o a la falta de separación lineal entre clases.\n",
    "\n",
    "> 💡 A futuro se recomienda probar otros enfoques como búsqueda de hiperparámetros (`GridSearchCV`), modelos más complejos (CNN/Transformer en crudo) o combinación de modelos (stacking).\n"
   ]
  },
  {
   "cell_type": "code",
   "execution_count": 28,
   "id": "acc9ec67-59a5-4ced-9302-22e35b831d92",
   "metadata": {},
   "outputs": [
    {
     "name": "stdout",
     "output_type": "stream",
     "text": [
      "✅ Random Forest: Accuracy medio = 43.95% (+/- 3.27%)\n",
      "✅ SVM (RBF): Accuracy medio = 35.30% (+/- 0.82%)\n"
     ]
    },
    {
     "name": "stderr",
     "output_type": "stream",
     "text": [
      "C:\\Users\\Usuario\\AppData\\Local\\Packages\\PythonSoftwareFoundation.Python.3.10_qbz5n2kfra8p0\\LocalCache\\local-packages\\Python310\\site-packages\\xgboost\\training.py:183: UserWarning: [22:00:14] WARNING: C:\\actions-runner\\_work\\xgboost\\xgboost\\src\\learner.cc:738: \n",
      "Parameters: { \"use_label_encoder\" } are not used.\n",
      "\n",
      "  bst.update(dtrain, iteration=i, fobj=obj)\n",
      "C:\\Users\\Usuario\\AppData\\Local\\Packages\\PythonSoftwareFoundation.Python.3.10_qbz5n2kfra8p0\\LocalCache\\local-packages\\Python310\\site-packages\\xgboost\\training.py:183: UserWarning: [22:00:15] WARNING: C:\\actions-runner\\_work\\xgboost\\xgboost\\src\\learner.cc:738: \n",
      "Parameters: { \"use_label_encoder\" } are not used.\n",
      "\n",
      "  bst.update(dtrain, iteration=i, fobj=obj)\n",
      "C:\\Users\\Usuario\\AppData\\Local\\Packages\\PythonSoftwareFoundation.Python.3.10_qbz5n2kfra8p0\\LocalCache\\local-packages\\Python310\\site-packages\\xgboost\\training.py:183: UserWarning: [22:00:15] WARNING: C:\\actions-runner\\_work\\xgboost\\xgboost\\src\\learner.cc:738: \n",
      "Parameters: { \"use_label_encoder\" } are not used.\n",
      "\n",
      "  bst.update(dtrain, iteration=i, fobj=obj)\n",
      "C:\\Users\\Usuario\\AppData\\Local\\Packages\\PythonSoftwareFoundation.Python.3.10_qbz5n2kfra8p0\\LocalCache\\local-packages\\Python310\\site-packages\\xgboost\\training.py:183: UserWarning: [22:00:16] WARNING: C:\\actions-runner\\_work\\xgboost\\xgboost\\src\\learner.cc:738: \n",
      "Parameters: { \"use_label_encoder\" } are not used.\n",
      "\n",
      "  bst.update(dtrain, iteration=i, fobj=obj)\n",
      "C:\\Users\\Usuario\\AppData\\Local\\Packages\\PythonSoftwareFoundation.Python.3.10_qbz5n2kfra8p0\\LocalCache\\local-packages\\Python310\\site-packages\\xgboost\\training.py:183: UserWarning: [22:00:17] WARNING: C:\\actions-runner\\_work\\xgboost\\xgboost\\src\\learner.cc:738: \n",
      "Parameters: { \"use_label_encoder\" } are not used.\n",
      "\n",
      "  bst.update(dtrain, iteration=i, fobj=obj)\n"
     ]
    },
    {
     "name": "stdout",
     "output_type": "stream",
     "text": [
      "✅ XGBoost: Accuracy medio = 44.65% (+/- 3.35%)\n"
     ]
    },
    {
     "name": "stderr",
     "output_type": "stream",
     "text": [
      "C:\\Users\\Usuario\\AppData\\Local\\Packages\\PythonSoftwareFoundation.Python.3.10_qbz5n2kfra8p0\\LocalCache\\local-packages\\Python310\\site-packages\\sklearn\\neural_network\\_multilayer_perceptron.py:690: ConvergenceWarning: Stochastic Optimizer: Maximum iterations (300) reached and the optimization hasn't converged yet.\n",
      "  warnings.warn(\n",
      "C:\\Users\\Usuario\\AppData\\Local\\Packages\\PythonSoftwareFoundation.Python.3.10_qbz5n2kfra8p0\\LocalCache\\local-packages\\Python310\\site-packages\\sklearn\\neural_network\\_multilayer_perceptron.py:690: ConvergenceWarning: Stochastic Optimizer: Maximum iterations (300) reached and the optimization hasn't converged yet.\n",
      "  warnings.warn(\n",
      "C:\\Users\\Usuario\\AppData\\Local\\Packages\\PythonSoftwareFoundation.Python.3.10_qbz5n2kfra8p0\\LocalCache\\local-packages\\Python310\\site-packages\\sklearn\\neural_network\\_multilayer_perceptron.py:690: ConvergenceWarning: Stochastic Optimizer: Maximum iterations (300) reached and the optimization hasn't converged yet.\n",
      "  warnings.warn(\n",
      "C:\\Users\\Usuario\\AppData\\Local\\Packages\\PythonSoftwareFoundation.Python.3.10_qbz5n2kfra8p0\\LocalCache\\local-packages\\Python310\\site-packages\\sklearn\\neural_network\\_multilayer_perceptron.py:690: ConvergenceWarning: Stochastic Optimizer: Maximum iterations (300) reached and the optimization hasn't converged yet.\n",
      "  warnings.warn(\n"
     ]
    },
    {
     "name": "stdout",
     "output_type": "stream",
     "text": [
      "✅ MLP: Accuracy medio = 39.51% (+/- 2.64%)\n"
     ]
    },
    {
     "name": "stderr",
     "output_type": "stream",
     "text": [
      "C:\\Users\\Usuario\\AppData\\Local\\Packages\\PythonSoftwareFoundation.Python.3.10_qbz5n2kfra8p0\\LocalCache\\local-packages\\Python310\\site-packages\\sklearn\\neural_network\\_multilayer_perceptron.py:690: ConvergenceWarning: Stochastic Optimizer: Maximum iterations (300) reached and the optimization hasn't converged yet.\n",
      "  warnings.warn(\n"
     ]
    }
   ],
   "source": [
    "from sklearn.pipeline import make_pipeline\n",
    "from sklearn.preprocessing import StandardScaler\n",
    "from sklearn.svm import SVC\n",
    "from sklearn.neural_network import MLPClassifier\n",
    "from xgboost import XGBClassifier\n",
    "from sklearn.model_selection import cross_val_score\n",
    "\n",
    "modelos = {\n",
    "    \"Random Forest\": RandomForestClassifier(n_estimators=100, random_state=42),\n",
    "    \"SVM (RBF)\": make_pipeline(StandardScaler(), SVC(kernel='rbf', C=1, gamma='scale')),\n",
    "    \"XGBoost\": XGBClassifier(use_label_encoder=False, eval_metric='mlogloss'),\n",
    "    \"MLP\": make_pipeline(StandardScaler(), MLPClassifier(hidden_layer_sizes=(100,), max_iter=300, random_state=42))\n",
    "}\n",
    "\n",
    "for nombre, modelo in modelos.items():\n",
    "    scores = cross_val_score(modelo, X_df, y_encoded, cv=5)\n",
    "    print(f\"✅ {nombre}: Accuracy medio = {scores.mean():.2%} (+/- {scores.std():.2%})\")\n"
   ]
  },
  {
   "cell_type": "markdown",
   "id": "124d07e8-4564-4a2a-8cfb-512ec485b6b6",
   "metadata": {},
   "source": [
    "## 📊 Visualización de características por canal (medias por ventana)\n",
    "\n",
    "Con el objetivo de comprender mejor la distribución de las características estadísticas extraídas de las señales EEG, se realiza una visualización de las **medias por canal** de una ventana seleccionada.\n",
    "\n",
    "### ¿Qué representa el gráfico?\n",
    "- Se selecciona una única ventana del dataset (`muestra = 0`).\n",
    "- Como se han extraído 5 características por cada uno de los 16 canales (media, std, energía, curtosis, asimetría), se filtran únicamente las columnas correspondientes a la **media de cada canal**.\n",
    "- Se grafican los valores de la media para cada canal EEG (`Canal 0` a `Canal 15`).\n",
    "\n",
    "### Observaciones:\n",
    "- Esta visualización permite detectar si existen **canales dominantes** o **anómalos** en la señal.\n",
    "- Puede servir como paso previo a la normalización o para justificar la selección de features más relevantes.\n",
    "- En este caso, se observa que algunos canales presentan valores **mucho más altos**, posiblemente indicando ruido o diferencias fisiológicas.\n",
    "\n",
    "> 💡 Este análisis puede repetirse para otras características (por ejemplo, energía o desviación estándar) o agregarse por clase (`baja`, `media`, `alta`) para detectar patrones específicos.\n"
   ]
  },
  {
   "cell_type": "code",
   "execution_count": 29,
   "id": "1e991bca-7a09-42c6-9ef9-6bc4ccd92b14",
   "metadata": {},
   "outputs": [
    {
     "data": {
      "image/png": "[encoded data removed]",
      "text/plain": [
       "<Figure size 1200x600 with 1 Axes>"
      ]
     },
     "metadata": {},
     "output_type": "display_data"
    }
   ],
   "source": [
    "import matplotlib.pyplot as plt\n",
    "\n",
    "# Visualizamos un bloque completo de un canal\n",
    "canales = X_df.columns[:16*5:5]  # Media de cada canal\n",
    "muestra = 0\n",
    "\n",
    "plt.figure(figsize=(12, 6))\n",
    "for i, col in enumerate(canales):\n",
    "    plt.plot(X_df.iloc[muestra][i::5], label=f\"Canal {i}\")\n",
    "plt.title(\"Distribución de medias por canal - Ventana ejemplo\")\n",
    "plt.xlabel(\"Canal\")\n",
    "plt.ylabel(\"Media\")\n",
    "plt.legend()\n",
    "plt.show()\n"
   ]
  },
  {
   "cell_type": "markdown",
   "id": "6b5c861f-aad7-4c03-a960-19fd11a41f9f",
   "metadata": {},
   "source": [
    "## 📌 Análisis de importancia de características (Random Forest)\n",
    "\n",
    "El modelo `RandomForestClassifier` permite estimar automáticamente la **importancia de cada feature** en el proceso de decisión del clasificador. Esta información es útil tanto para interpretar el modelo como para aplicar selección de variables (feature selection).\n",
    "\n",
    "### 📊 ¿Cómo se calcula?\n",
    "- La importancia de una característica se mide por el aumento de la impureza (Gini) que genera en cada división de los árboles del bosque.\n",
    "- Cuanto mayor es esta ganancia, mayor es la contribución de dicha característica al modelo final.\n",
    "\n",
    "### 🔝 Visualización:\n",
    "En el gráfico se muestran las **20 características más importantes** según el modelo entrenado.\n",
    "\n",
    "- El eje X representa el índice de la característica (`F0`, `F1`, ..., `F79`).\n",
    "- El eje Y muestra la importancia relativa asignada por el modelo.\n",
    "- Algunas variables (como `F72`, `F52` o `F50`) destacan significativamente por encima del resto.\n",
    "\n",
    "> ⚠️ Dado que cada canal tiene 5 características, este análisis también puede servir para identificar **qué canales** o **qué métricas estadísticas (media, varianza, etc.)** son más informativas para la detección de carga cognitiva.\n",
    "\n",
    "### 💡 Aplicaciones:\n",
    "- Reducción de dimensionalidad (eliminando variables irrelevantes).\n",
    "- Interpretabilidad del modelo.\n",
    "- Priorización de señales EEG para estudios futuros.\n",
    "\n"
   ]
  },
  {
   "cell_type": "code",
   "execution_count": 30,
   "id": "9ff83fd8-db39-441f-90e8-c33e14c2f903",
   "metadata": {},
   "outputs": [
    {
     "data": {
      "image/png": "[encoded data removed]",
      "text/plain": [
       "<Figure size 1000x600 with 1 Axes>"
      ]
     },
     "metadata": {},
     "output_type": "display_data"
    }
   ],
   "source": [
    "importances = clf.feature_importances_\n",
    "indices = np.argsort(importances)[::-1]\n",
    "\n",
    "plt.figure(figsize=(10, 6))\n",
    "plt.bar(range(20), importances[indices[:20]])\n",
    "plt.xticks(range(20), [f\"F{idx}\" for idx in indices[:20]], rotation=45)\n",
    "plt.title(\"Top 20 características más importantes\")\n",
    "plt.tight_layout()\n",
    "plt.show()\n"
   ]
  },
  {
   "cell_type": "markdown",
   "id": "85bb8287-37a6-4582-982c-d53e998b8315",
   "metadata": {},
   "source": [
    "## 🧩 Análisis de componentes principales (PCA) sobre las señales EEG\n",
    "\n",
    "Con el objetivo de **visualizar la estructura del espacio de características** y explorar la separabilidad entre clases (`baja`, `media`, `alta`), se ha aplicado un análisis de componentes principales (PCA).\n",
    "\n",
    "### 📐 ¿Qué es PCA?\n",
    "- El PCA proyecta los datos originales de alta dimensión (80 features en este caso) en un nuevo espacio de menor dimensión (2D).\n",
    "- La transformación conserva la **mayor varianza posible**, permitiendo representar gráficamente los datos sin perder la esencia de su estructura interna.\n",
    "\n",
    "---\n",
    "\n",
    "### 📊 Interpretación del gráfico:\n",
    "\n",
    "- Cada punto representa una ventana EEG proyectada en los **dos primeros componentes principales** (`PC1` y `PC2`).\n",
    "- Los puntos están coloreados según su **etiqueta de carga cognitiva**:\n",
    "  - 🔵 `alta`\n",
    "  - 🟠 `baja`\n",
    "  - 🟢 `media`\n",
    "\n",
    "#### Observaciones clave:\n",
    "- No existe una **separación clara** entre las clases. Las nubes de puntos están superpuestas, lo cual es esperado en señales EEG reales.\n",
    "- Se observan **agrupaciones locales**, lo que indica que ciertos patrones pueden estar asociados a niveles de carga similares.\n",
    "- Aunque PCA no permite clasificar directamente, **sí sugiere estructura latente**, justificando el uso de modelos no lineales como XGBoost o Random Forest.\n",
    "\n",
    "> ℹ️ Esta visualización ayuda a comprender la dificultad del problema y refuerza la necesidad de modelos robustos y potencialmente más complejos.\n"
   ]
  },
  {
   "cell_type": "code",
   "execution_count": 31,
   "id": "ee1deee7-1fd2-4e04-8c95-e1e501e21920",
   "metadata": {},
   "outputs": [
    {
     "data": {
      "image/png": "[encoded data removed]",
      "text/plain": [
       "<Figure size 800x600 with 1 Axes>"
      ]
     },
     "metadata": {},
     "output_type": "display_data"
    }
   ],
   "source": [
    "from sklearn.decomposition import PCA\n",
    "from sklearn.preprocessing import StandardScaler\n",
    "\n",
    "scaler = StandardScaler()\n",
    "X_scaled = scaler.fit_transform(X_df)\n",
    "\n",
    "pca = PCA(n_components=2)\n",
    "X_pca = pca.fit_transform(X_scaled)\n",
    "\n",
    "plt.figure(figsize=(8, 6))\n",
    "for label in np.unique(y_encoded):\n",
    "    plt.scatter(X_pca[y_encoded == label, 0], X_pca[y_encoded == label, 1], label=le.inverse_transform([label])[0])\n",
    "plt.title(\"PCA de señales EEG\")\n",
    "plt.xlabel(\"PC1\")\n",
    "plt.ylabel(\"PC2\")\n",
    "plt.legend()\n",
    "plt.show()\n"
   ]
  },
  {
   "cell_type": "markdown",
   "id": "6fb946e0-0742-4419-b91e-2d1296286f20",
   "metadata": {},
   "source": [
    "## 🚀 Preparación del modelo para producción y demo con Streamlit\n",
    "\n",
    "Una vez finalizado el proceso de entrenamiento y validación, se procedió a **empaquetar el modelo y su entorno de inferencia** para facilitar su despliegue mediante una interfaz sencilla e interactiva utilizando `Streamlit`.\n",
    "\n",
    "---\n",
    "\n",
    "### 🔐 Elementos guardados:\n",
    "\n",
    "1. **Modelo entrenado** (`modelo_carga_cognitiva.pkl`):\n",
    "   - Modelo final de Random Forest entrenado con todo el conjunto de datos escalado.\n",
    "   - Guardado con `joblib` para carga rápida en producción.\n",
    "\n",
    "2. **Escalador** (`escalador_eeg.pkl`):\n",
    "   - Objeto `StandardScaler` usado en la normalización previa al entrenamiento.\n",
    "   - Necesario para mantener la coherencia entre entrenamiento y predicción.\n",
    "\n",
    "3. **Ventana de ejemplo para demo** (`ventana_demo.csv`):\n",
    "   - Una ventana real de 512 muestras × 16 canales extraída de los datos originales (`X_float`).\n",
    "   - Guardada como archivo CSV para que el usuario pueda probar la demo interactiva sin necesidad de generar su propia señal EEG.\n",
    "\n",
    "\n",
    "\n"
   ]
  },
  {
   "cell_type": "code",
   "execution_count": 34,
   "id": "1506b820-1be8-43e5-8ee8-2be2380cdb7e",
   "metadata": {},
   "outputs": [
    {
     "name": "stdout",
     "output_type": "stream",
     "text": [
      "✅ Modelo y scaler guardados en: C:\\Users\\Usuario\\Desktop\\Data\n"
     ]
    }
   ],
   "source": [
    "import joblib\n",
    "import os\n",
    "\n",
    "# Ruta destino\n",
    "output_dir = r\"C:\\Users\\Usuario\\Desktop\\Data\"\n",
    "os.makedirs(output_dir, exist_ok=True)\n",
    "\n",
    "# Entrenar modelo final con todo el set\n",
    "final_model = RandomForestClassifier(n_estimators=100, random_state=42)\n",
    "final_model.fit(X_scaled, y_encoded)\n",
    "\n",
    "# Guardar modelo y escalador en la ruta deseada\n",
    "joblib.dump(final_model, os.path.join(output_dir, \"modelo_carga_cognitiva.pkl\"))\n",
    "joblib.dump(scaler, os.path.join(output_dir, \"escalador_eeg.pkl\"))\n",
    "\n",
    "print(\"✅ Modelo y scaler guardados en:\", output_dir)\n"
   ]
  },
  {
   "cell_type": "code",
   "execution_count": 35,
   "id": "4ca0c48e-3ec8-44a5-8c76-671fa14a55c8",
   "metadata": {},
   "outputs": [],
   "source": [
    "# Seleccionar una ventana original (no procesada)\n",
    "ejemplo = X_float[0][0]  # la señal original, 512x16\n",
    "\n",
    "# Guardar como CSV para subir a la demo\n",
    "pd.DataFrame(ejemplo, columns=[f\"EEG{i}\" for i in range(16)]).to_csv(\n",
    "    r\"C:\\Users\\Usuario\\Desktop\\Data\\ventana_demo.csv\", index=False\n",
    ")\n"
   ]
  },
  {
   "cell_type": "markdown",
   "id": "1e3e8921-ad06-48d8-91ca-d884cf09c3d1",
   "metadata": {},
   "source": [
    "\n",
    "---\n",
    "\n",
    "### 🖥️ Integración con Streamlit:\n",
    "Estos archivos sirven como base para la demo en `Streamlit`, que permite:\n",
    "\n",
    "- Subir una ventana `.csv` con datos EEG crudos.\n",
    "- Aplicar el escalado automático.\n",
    "- Predecir el nivel de carga cognitiva (`baja`, `media`, `alta`).\n",
    "- Mostrar la probabilidad de cada clase mediante visualización dinámica.\n",
    "\n",
    "> ✅ Esta arquitectura modular permite extender fácilmente el sistema para más modelos, nuevas métricas o integración en pipelines clínicos o de investigación.\n"
   ]
  },
  {
   "cell_type": "code",
   "execution_count": null,
   "id": "a7562f50-c3ea-40a9-a36f-615d9109fe53",
   "metadata": {},
   "outputs": [],
   "source": []
  }
 ],
 "metadata": {
  "kernelspec": {
   "display_name": "Python 3 (ipykernel)",
   "language": "python",
   "name": "python3"
  },
  "language_info": {
   "codemirror_mode": {
    "name": "ipython",
    "version": 3
   },
   "file_extension": ".py",
   "mimetype": "text/x-python",
   "name": "python",
   "nbconvert_exporter": "python",
   "pygments_lexer": "ipython3",
   "version": "3.10.11"
  }
 },
 "nbformat": 4,
 "nbformat_minor": 5
}
